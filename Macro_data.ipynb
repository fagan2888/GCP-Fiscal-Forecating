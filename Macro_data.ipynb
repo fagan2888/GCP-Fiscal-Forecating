{
 "cells": [
  {
   "cell_type": "markdown",
   "metadata": {},
   "source": [
    "## Import data"
   ]
  },
  {
   "cell_type": "code",
   "execution_count": 1,
   "metadata": {},
   "outputs": [],
   "source": [
    "import pandas as pd\n",
    "import numpy as np\n",
    "from matplotlib import pyplot as plt\n",
    "from sklearn.decomposition import PCA\n",
    "from sklearn.preprocessing import StandardScaler"
   ]
  },
  {
   "cell_type": "code",
   "execution_count": 2,
   "metadata": {},
   "outputs": [],
   "source": [
    "us_a = pd.read_csv(\"/home/jupyter/Fiscal-Forecasting/data/United States_A.txt\", delimiter=\"\\t\")\n",
    "uk_a = pd.read_csv(\"/home/jupyter/Fiscal-Forecasting/data/United Kingdom_A.txt\", delimiter=\"\\t\")\n",
    "ger_a = pd.read_csv(\"/home/jupyter/Fiscal-Forecasting/data/Germany_A.txt\", delimiter=\"\\t\")"
   ]
  },
  {
   "cell_type": "code",
   "execution_count": 3,
   "metadata": {},
   "outputs": [],
   "source": [
    "us_q = pd.read_csv(\"/home/jupyter/Fiscal-Forecasting/data/United States.txt\", delimiter=\"\\t\")\n",
    "uk_q = pd.read_csv(\"/home/jupyter/Fiscal-Forecasting/data/United Kingdom.txt\", delimiter=\"\\t\")\n",
    "ger_q = pd.read_csv(\"/home/jupyter/Fiscal-Forecasting/data/Germany.txt\", delimiter=\"\\t\")"
   ]
  },
  {
   "cell_type": "code",
   "execution_count": 4,
   "metadata": {},
   "outputs": [],
   "source": [
    "us_a_macro = us_a[['DATE', 'CA', 'FA', 'DI', 'RESERV', 'IMP', 'EXP', 'LPROD', 'ULC', 'UNEMP',\n",
    "                   'PUBCON', 'PRIVCON', 'CAPFORM', 'GAP', 'NATSAV', 'MGS', 'XGS', 'INFL']]"
   ]
  },
  {
   "cell_type": "code",
   "execution_count": 5,
   "metadata": {},
   "outputs": [],
   "source": [
    "uk_a_macro = uk_a[['DATE', 'CA', 'FA', 'DI', 'RESERV', 'IMP', 'EXP', 'LPROD', 'ULC', 'UNEMP',\n",
    "                   'PUBCON', 'PRIVCON', 'CAPFORM', 'GAP', 'NATSAV', 'MGS', 'XGS', 'INFL']]"
   ]
  },
  {
   "cell_type": "markdown",
   "metadata": {},
   "source": [
    "Germany doesn't have any of the above indexes."
   ]
  },
  {
   "cell_type": "code",
   "execution_count": 6,
   "metadata": {},
   "outputs": [
    {
     "data": {
      "text/plain": [
       "Index(['TIME', 'GDPt1', 'BCA_GDP_BP6', 'BF_GDP_BP6', 'BFD_GDP_BP6',\n",
       "       'BFRA_GDP_BP6', 'BK_GDP_BP6', 'BOP_GDP_BP6', 'ENDA', 'FIDR_R', 'FIGB_R',\n",
       "       'LHEM_PCH', 'LPROCM_PCH', 'LULCM_PCH', 'LUR', 'NCG_RPCH', 'NCP_RPCH',\n",
       "       'NFDD_RPCH', 'NFI_RPCH', 'NGAP_R', 'NGSD_GDP', 'NK_R', 'NM_RPCH',\n",
       "       'NSHR', 'NTDD_RPCH', 'NX_RPCH', 'PCPI_PCH', 'TBO'],\n",
       "      dtype='object')"
      ]
     },
     "execution_count": 6,
     "metadata": {},
     "output_type": "execute_result"
    }
   ],
   "source": [
    "ger_a.columns"
   ]
  },
  {
   "cell_type": "code",
   "execution_count": 7,
   "metadata": {},
   "outputs": [
    {
     "data": {
      "text/plain": [
       "Index(['DATE', 'GDPt1', 'GDPt', 'L2GDP', 'L3GDP', 'L4GDP', 'L5GDP', 'CA', 'FA',\n",
       "       'DI', 'RESERV', 'IMP', 'EXP', 'INT', 'M3', 'LPROD', 'ULC', 'UNEMP',\n",
       "       'PUBCON', 'PRIVCON', 'DDEM', 'CAPFORM', 'GAP', 'NATSAV', 'MGS',\n",
       "       'SAVRATIO', 'XGS', 'INFL', 'B_PMI', 'B_UTIL', 'B_INDPROD', 'B_HOUSING',\n",
       "       'B_AUTOS', 'B_CONCONF', 'B_OIL', 'B_SP500', 'BUR', 'RISK', 'CORRUPT',\n",
       "       'DEMOCRACY', 'ECONRISK', 'ETHNIC', 'EXCONF', 'FINRISK', 'GOVSTAB',\n",
       "       'INTCONF', 'INVPROF', 'LAWORD', 'MILITARY', 'POLRISK', 'RELITEN',\n",
       "       'BUDGETRISK', 'CARISK', 'CARISKXGS', 'DEBTRISK', 'XRRISK', 'FDEBTRISK',\n",
       "       'GDPRISK', 'INFLRISK', 'LIQRISK', 'CAPITARISK', 'SOCIOCON'],\n",
       "      dtype='object')"
      ]
     },
     "execution_count": 7,
     "metadata": {},
     "output_type": "execute_result"
    }
   ],
   "source": [
    "us_a.columns"
   ]
  },
  {
   "cell_type": "code",
   "execution_count": 8,
   "metadata": {},
   "outputs": [
    {
     "data": {
      "text/html": [
       "<div>\n",
       "<style scoped>\n",
       "    .dataframe tbody tr th:only-of-type {\n",
       "        vertical-align: middle;\n",
       "    }\n",
       "\n",
       "    .dataframe tbody tr th {\n",
       "        vertical-align: top;\n",
       "    }\n",
       "\n",
       "    .dataframe thead th {\n",
       "        text-align: right;\n",
       "    }\n",
       "</style>\n",
       "<table border=\"1\" class=\"dataframe\">\n",
       "  <thead>\n",
       "    <tr style=\"text-align: right;\">\n",
       "      <th></th>\n",
       "      <th>DATE</th>\n",
       "      <th>GDPt1</th>\n",
       "      <th>GDPt</th>\n",
       "      <th>L2GDP</th>\n",
       "      <th>L3GDP</th>\n",
       "      <th>L4GDP</th>\n",
       "      <th>L5GDP</th>\n",
       "      <th>CA</th>\n",
       "      <th>FA</th>\n",
       "      <th>DI</th>\n",
       "      <th>...</th>\n",
       "      <th>CARISK</th>\n",
       "      <th>CARISKXGS</th>\n",
       "      <th>DEBTRISK</th>\n",
       "      <th>XRRISK</th>\n",
       "      <th>FDEBTRISK</th>\n",
       "      <th>GDPRISK</th>\n",
       "      <th>INFLRISK</th>\n",
       "      <th>LIQRISK</th>\n",
       "      <th>CAPITARISK</th>\n",
       "      <th>SOCIOCON</th>\n",
       "    </tr>\n",
       "  </thead>\n",
       "  <tbody>\n",
       "    <tr>\n",
       "      <th>0</th>\n",
       "      <td>1984</td>\n",
       "      <td>4.238489</td>\n",
       "      <td>7.258908</td>\n",
       "      <td>4.632757</td>\n",
       "      <td>-1.911148</td>\n",
       "      <td>2.594413</td>\n",
       "      <td>-0.244348</td>\n",
       "      <td>-2.334793</td>\n",
       "      <td>1.255698</td>\n",
       "      <td>-0.199421</td>\n",
       "      <td>...</td>\n",
       "      <td>13.800000</td>\n",
       "      <td>10.333333</td>\n",
       "      <td>8.125000</td>\n",
       "      <td>9.666667</td>\n",
       "      <td>9.758333</td>\n",
       "      <td>9.200000</td>\n",
       "      <td>8.500000</td>\n",
       "      <td>2.625000</td>\n",
       "      <td>4.600000</td>\n",
       "      <td>10.666667</td>\n",
       "    </tr>\n",
       "    <tr>\n",
       "      <th>1</th>\n",
       "      <td>1985</td>\n",
       "      <td>3.512076</td>\n",
       "      <td>4.238489</td>\n",
       "      <td>7.258908</td>\n",
       "      <td>4.632757</td>\n",
       "      <td>-1.911148</td>\n",
       "      <td>2.594413</td>\n",
       "      <td>-2.718330</td>\n",
       "      <td>1.082786</td>\n",
       "      <td>-0.018842</td>\n",
       "      <td>...</td>\n",
       "      <td>12.741667</td>\n",
       "      <td>8.875000</td>\n",
       "      <td>8.000000</td>\n",
       "      <td>9.583333</td>\n",
       "      <td>10.000000</td>\n",
       "      <td>8.475000</td>\n",
       "      <td>8.500000</td>\n",
       "      <td>2.708333</td>\n",
       "      <td>4.266667</td>\n",
       "      <td>9.500000</td>\n",
       "    </tr>\n",
       "    <tr>\n",
       "      <th>2</th>\n",
       "      <td>1986</td>\n",
       "      <td>3.461612</td>\n",
       "      <td>3.512076</td>\n",
       "      <td>4.238489</td>\n",
       "      <td>7.258908</td>\n",
       "      <td>4.632757</td>\n",
       "      <td>-1.911148</td>\n",
       "      <td>-3.206361</td>\n",
       "      <td>2.336494</td>\n",
       "      <td>-0.248904</td>\n",
       "      <td>...</td>\n",
       "      <td>11.300000</td>\n",
       "      <td>8.750000</td>\n",
       "      <td>7.833333</td>\n",
       "      <td>10.000000</td>\n",
       "      <td>10.000000</td>\n",
       "      <td>7.500000</td>\n",
       "      <td>8.791667</td>\n",
       "      <td>2.125000</td>\n",
       "      <td>3.800000</td>\n",
       "      <td>9.000000</td>\n",
       "    </tr>\n",
       "    <tr>\n",
       "      <th>3</th>\n",
       "      <td>1987</td>\n",
       "      <td>4.204068</td>\n",
       "      <td>3.461612</td>\n",
       "      <td>3.512076</td>\n",
       "      <td>4.238489</td>\n",
       "      <td>7.258908</td>\n",
       "      <td>4.632757</td>\n",
       "      <td>-3.298841</td>\n",
       "      <td>1.725916</td>\n",
       "      <td>-0.481230</td>\n",
       "      <td>...</td>\n",
       "      <td>11.300000</td>\n",
       "      <td>8.791667</td>\n",
       "      <td>7.125000</td>\n",
       "      <td>10.000000</td>\n",
       "      <td>10.000000</td>\n",
       "      <td>7.500000</td>\n",
       "      <td>8.875000</td>\n",
       "      <td>2.541667</td>\n",
       "      <td>3.800000</td>\n",
       "      <td>9.000000</td>\n",
       "    </tr>\n",
       "    <tr>\n",
       "      <th>4</th>\n",
       "      <td>1988</td>\n",
       "      <td>3.680158</td>\n",
       "      <td>4.204068</td>\n",
       "      <td>3.461612</td>\n",
       "      <td>3.512076</td>\n",
       "      <td>4.238489</td>\n",
       "      <td>7.258908</td>\n",
       "      <td>-2.306637</td>\n",
       "      <td>2.013260</td>\n",
       "      <td>-0.670293</td>\n",
       "      <td>...</td>\n",
       "      <td>10.108333</td>\n",
       "      <td>9.375000</td>\n",
       "      <td>6.750000</td>\n",
       "      <td>10.000000</td>\n",
       "      <td>10.000000</td>\n",
       "      <td>6.766667</td>\n",
       "      <td>8.500000</td>\n",
       "      <td>2.166667</td>\n",
       "      <td>3.341667</td>\n",
       "      <td>8.083333</td>\n",
       "    </tr>\n",
       "  </tbody>\n",
       "</table>\n",
       "<p>5 rows × 62 columns</p>\n",
       "</div>"
      ],
      "text/plain": [
       "   DATE     GDPt1      GDPt     L2GDP     L3GDP     L4GDP     L5GDP        CA  \\\n",
       "0  1984  4.238489  7.258908  4.632757 -1.911148  2.594413 -0.244348 -2.334793   \n",
       "1  1985  3.512076  4.238489  7.258908  4.632757 -1.911148  2.594413 -2.718330   \n",
       "2  1986  3.461612  3.512076  4.238489  7.258908  4.632757 -1.911148 -3.206361   \n",
       "3  1987  4.204068  3.461612  3.512076  4.238489  7.258908  4.632757 -3.298841   \n",
       "4  1988  3.680158  4.204068  3.461612  3.512076  4.238489  7.258908 -2.306637   \n",
       "\n",
       "         FA        DI  ...     CARISK  CARISKXGS  DEBTRISK     XRRISK  \\\n",
       "0  1.255698 -0.199421  ...  13.800000  10.333333  8.125000   9.666667   \n",
       "1  1.082786 -0.018842  ...  12.741667   8.875000  8.000000   9.583333   \n",
       "2  2.336494 -0.248904  ...  11.300000   8.750000  7.833333  10.000000   \n",
       "3  1.725916 -0.481230  ...  11.300000   8.791667  7.125000  10.000000   \n",
       "4  2.013260 -0.670293  ...  10.108333   9.375000  6.750000  10.000000   \n",
       "\n",
       "   FDEBTRISK   GDPRISK  INFLRISK   LIQRISK  CAPITARISK   SOCIOCON  \n",
       "0   9.758333  9.200000  8.500000  2.625000    4.600000  10.666667  \n",
       "1  10.000000  8.475000  8.500000  2.708333    4.266667   9.500000  \n",
       "2  10.000000  7.500000  8.791667  2.125000    3.800000   9.000000  \n",
       "3  10.000000  7.500000  8.875000  2.541667    3.800000   9.000000  \n",
       "4  10.000000  6.766667  8.500000  2.166667    3.341667   8.083333  \n",
       "\n",
       "[5 rows x 62 columns]"
      ]
     },
     "execution_count": 8,
     "metadata": {},
     "output_type": "execute_result"
    }
   ],
   "source": [
    "us_a.head()"
   ]
  },
  {
   "cell_type": "markdown",
   "metadata": {},
   "source": [
    "## PCA"
   ]
  },
  {
   "cell_type": "code",
   "execution_count": 9,
   "metadata": {},
   "outputs": [],
   "source": [
    "samples = us_a.dropna().drop(['DATE'], axis=1)"
   ]
  },
  {
   "cell_type": "code",
   "execution_count": 10,
   "metadata": {},
   "outputs": [],
   "source": [
    "scaler = StandardScaler()\n",
    "X = scaler.fit_transform(samples)"
   ]
  },
  {
   "cell_type": "code",
   "execution_count": 11,
   "metadata": {},
   "outputs": [],
   "source": [
    "pca = PCA(n_components=2)\n",
    "principal_components = pca.fit_transform(X)"
   ]
  },
  {
   "cell_type": "code",
   "execution_count": 12,
   "metadata": {},
   "outputs": [
    {
     "data": {
      "text/html": [
       "<div>\n",
       "<style scoped>\n",
       "    .dataframe tbody tr th:only-of-type {\n",
       "        vertical-align: middle;\n",
       "    }\n",
       "\n",
       "    .dataframe tbody tr th {\n",
       "        vertical-align: top;\n",
       "    }\n",
       "\n",
       "    .dataframe thead th {\n",
       "        text-align: right;\n",
       "    }\n",
       "</style>\n",
       "<table border=\"1\" class=\"dataframe\">\n",
       "  <thead>\n",
       "    <tr style=\"text-align: right;\">\n",
       "      <th></th>\n",
       "      <th>PC1</th>\n",
       "      <th>PC2</th>\n",
       "    </tr>\n",
       "  </thead>\n",
       "  <tbody>\n",
       "    <tr>\n",
       "      <th>0</th>\n",
       "      <td>-6.970589</td>\n",
       "      <td>-1.333367</td>\n",
       "    </tr>\n",
       "    <tr>\n",
       "      <th>1</th>\n",
       "      <td>-5.112484</td>\n",
       "      <td>-0.294188</td>\n",
       "    </tr>\n",
       "    <tr>\n",
       "      <th>2</th>\n",
       "      <td>-4.266847</td>\n",
       "      <td>0.294002</td>\n",
       "    </tr>\n",
       "    <tr>\n",
       "      <th>3</th>\n",
       "      <td>-4.228629</td>\n",
       "      <td>0.562121</td>\n",
       "    </tr>\n",
       "    <tr>\n",
       "      <th>4</th>\n",
       "      <td>-4.780580</td>\n",
       "      <td>1.843712</td>\n",
       "    </tr>\n",
       "  </tbody>\n",
       "</table>\n",
       "</div>"
      ],
      "text/plain": [
       "        PC1       PC2\n",
       "0 -6.970589 -1.333367\n",
       "1 -5.112484 -0.294188\n",
       "2 -4.266847  0.294002\n",
       "3 -4.228629  0.562121\n",
       "4 -4.780580  1.843712"
      ]
     },
     "execution_count": 12,
     "metadata": {},
     "output_type": "execute_result"
    }
   ],
   "source": [
    "new_X = pd.DataFrame(data = principal_components, columns = ['PC1', 'PC2'])\n",
    "new_X.head()"
   ]
  },
  {
   "cell_type": "code",
   "execution_count": 13,
   "metadata": {},
   "outputs": [
    {
     "data": {
      "image/png": "[encoded data removed]",
      "text/plain": [
       "<Figure size 432x288 with 1 Axes>"
      ]
     },
     "metadata": {
      "needs_background": "light"
     },
     "output_type": "display_data"
    }
   ],
   "source": [
    "per_var = np.round(pca.explained_variance_ratio_ * 100, decimals=1)\n",
    "labels = ['PC' + str(x) for x in range(1, len(per_var) + 1)]\n",
    "plt.bar(x=range(1, len(per_var)+1), height=per_var, tick_label=labels)\n",
    "plt.ylabel('percentange of explained variance')\n",
    "plt.xlabel('principal component')\n",
    "plt.title('variable importance')\n",
    "plt.show()"
   ]
  },
  {
   "cell_type": "code",
   "execution_count": 17,
   "metadata": {},
   "outputs": [
    {
     "data": {
      "text/plain": [
       "50.5"
      ]
     },
     "execution_count": 17,
     "metadata": {},
     "output_type": "execute_result"
    }
   ],
   "source": [
    "per_var.sum()"
   ]
  },
  {
   "cell_type": "markdown",
   "metadata": {},
   "source": [
    "### Increase number of principal components"
   ]
  },
  {
   "cell_type": "code",
   "execution_count": 14,
   "metadata": {},
   "outputs": [],
   "source": [
    "pca = PCA(n_components=10)\n",
    "principal_components = pca.fit_transform(X)"
   ]
  },
  {
   "cell_type": "code",
   "execution_count": 15,
   "metadata": {},
   "outputs": [
    {
     "data": {
      "text/html": [
       "<div>\n",
       "<style scoped>\n",
       "    .dataframe tbody tr th:only-of-type {\n",
       "        vertical-align: middle;\n",
       "    }\n",
       "\n",
       "    .dataframe tbody tr th {\n",
       "        vertical-align: top;\n",
       "    }\n",
       "\n",
       "    .dataframe thead th {\n",
       "        text-align: right;\n",
       "    }\n",
       "</style>\n",
       "<table border=\"1\" class=\"dataframe\">\n",
       "  <thead>\n",
       "    <tr style=\"text-align: right;\">\n",
       "      <th></th>\n",
       "      <th>PC1</th>\n",
       "      <th>PC2</th>\n",
       "      <th>PC3</th>\n",
       "      <th>PC4</th>\n",
       "      <th>PC5</th>\n",
       "      <th>PC6</th>\n",
       "      <th>PC7</th>\n",
       "      <th>PC8</th>\n",
       "      <th>PC9</th>\n",
       "      <th>PC10</th>\n",
       "    </tr>\n",
       "  </thead>\n",
       "  <tbody>\n",
       "    <tr>\n",
       "      <th>0</th>\n",
       "      <td>-6.970589</td>\n",
       "      <td>-1.333367</td>\n",
       "      <td>-1.313164</td>\n",
       "      <td>6.887498</td>\n",
       "      <td>-2.131555</td>\n",
       "      <td>0.340563</td>\n",
       "      <td>0.632149</td>\n",
       "      <td>-0.038152</td>\n",
       "      <td>-0.254965</td>\n",
       "      <td>-0.982329</td>\n",
       "    </tr>\n",
       "    <tr>\n",
       "      <th>1</th>\n",
       "      <td>-5.112484</td>\n",
       "      <td>-0.294188</td>\n",
       "      <td>2.799261</td>\n",
       "      <td>4.129422</td>\n",
       "      <td>-1.770942</td>\n",
       "      <td>-0.396871</td>\n",
       "      <td>-1.749622</td>\n",
       "      <td>-0.570654</td>\n",
       "      <td>-1.481300</td>\n",
       "      <td>-0.356696</td>\n",
       "    </tr>\n",
       "    <tr>\n",
       "      <th>2</th>\n",
       "      <td>-4.266847</td>\n",
       "      <td>0.294002</td>\n",
       "      <td>2.331815</td>\n",
       "      <td>1.931344</td>\n",
       "      <td>-1.525135</td>\n",
       "      <td>0.390098</td>\n",
       "      <td>-1.609653</td>\n",
       "      <td>-0.122233</td>\n",
       "      <td>-0.653171</td>\n",
       "      <td>3.327049</td>\n",
       "    </tr>\n",
       "    <tr>\n",
       "      <th>3</th>\n",
       "      <td>-4.228629</td>\n",
       "      <td>0.562121</td>\n",
       "      <td>0.884748</td>\n",
       "      <td>-0.336023</td>\n",
       "      <td>-2.232492</td>\n",
       "      <td>0.094581</td>\n",
       "      <td>-0.392636</td>\n",
       "      <td>1.723257</td>\n",
       "      <td>1.000275</td>\n",
       "      <td>1.703174</td>\n",
       "    </tr>\n",
       "    <tr>\n",
       "      <th>4</th>\n",
       "      <td>-4.780580</td>\n",
       "      <td>1.843712</td>\n",
       "      <td>0.532130</td>\n",
       "      <td>-1.133282</td>\n",
       "      <td>-1.168044</td>\n",
       "      <td>-1.543981</td>\n",
       "      <td>-0.621483</td>\n",
       "      <td>1.833442</td>\n",
       "      <td>1.885382</td>\n",
       "      <td>-1.229172</td>\n",
       "    </tr>\n",
       "  </tbody>\n",
       "</table>\n",
       "</div>"
      ],
      "text/plain": [
       "        PC1       PC2       PC3       PC4       PC5       PC6       PC7  \\\n",
       "0 -6.970589 -1.333367 -1.313164  6.887498 -2.131555  0.340563  0.632149   \n",
       "1 -5.112484 -0.294188  2.799261  4.129422 -1.770942 -0.396871 -1.749622   \n",
       "2 -4.266847  0.294002  2.331815  1.931344 -1.525135  0.390098 -1.609653   \n",
       "3 -4.228629  0.562121  0.884748 -0.336023 -2.232492  0.094581 -0.392636   \n",
       "4 -4.780580  1.843712  0.532130 -1.133282 -1.168044 -1.543981 -0.621483   \n",
       "\n",
       "        PC8       PC9      PC10  \n",
       "0 -0.038152 -0.254965 -0.982329  \n",
       "1 -0.570654 -1.481300 -0.356696  \n",
       "2 -0.122233 -0.653171  3.327049  \n",
       "3  1.723257  1.000275  1.703174  \n",
       "4  1.833442  1.885382 -1.229172  "
      ]
     },
     "execution_count": 15,
     "metadata": {},
     "output_type": "execute_result"
    }
   ],
   "source": [
    "new_X_2 = pd.DataFrame(data = principal_components, columns = ['PC1', 'PC2', 'PC3', \n",
    "                                                    'PC4', 'PC5', 'PC6', 'PC7', 'PC8', 'PC9', 'PC10'])\n",
    "new_X_2.head()"
   ]
  },
  {
   "cell_type": "code",
   "execution_count": 16,
   "metadata": {},
   "outputs": [
    {
     "data": {
      "image/png": "[encoded data removed]",
      "text/plain": [
       "<Figure size 432x288 with 1 Axes>"
      ]
     },
     "metadata": {
      "needs_background": "light"
     },
     "output_type": "display_data"
    }
   ],
   "source": [
    "per_var_2 = np.round(pca.explained_variance_ratio_ * 100, decimals=1)\n",
    "labels = ['PC' + str(x) for x in range(1, len(per_var_2) + 1)]\n",
    "plt.bar(x=range(1, len(per_var_2)+1), height=per_var_2, tick_label=labels)\n",
    "plt.ylabel('percentange of explained variance')\n",
    "plt.xlabel('principal component')\n",
    "plt.title('variable importance')\n",
    "plt.show()"
   ]
  },
  {
   "cell_type": "code",
   "execution_count": 18,
   "metadata": {},
   "outputs": [
    {
     "data": {
      "text/plain": [
       "90.5"
      ]
     },
     "execution_count": 18,
     "metadata": {},
     "output_type": "execute_result"
    }
   ],
   "source": [
    "per_var_2.sum()"
   ]
  }
 ],
 "metadata": {
  "kernelspec": {
   "display_name": "Python 3",
   "language": "python",
   "name": "python3"
  },
  "language_info": {
   "codemirror_mode": {
    "name": "ipython",
    "version": 3
   },
   "file_extension": ".py",
   "mimetype": "text/x-python",
   "name": "python",
   "nbconvert_exporter": "python",
   "pygments_lexer": "ipython3",
   "version": "3.5.3"
  }
 },
 "nbformat": 4,
 "nbformat_minor": 4
}
